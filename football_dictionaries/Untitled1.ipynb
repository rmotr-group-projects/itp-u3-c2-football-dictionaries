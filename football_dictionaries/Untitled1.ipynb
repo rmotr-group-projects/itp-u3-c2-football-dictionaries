{
 "cells": [
  {
   "cell_type": "code",
   "execution_count": 1,
   "metadata": {},
   "outputs": [
    {
     "ename": "SyntaxError",
     "evalue": "positional argument follows keyword argument (<ipython-input-1-e114233c71bc>, line 8)",
     "output_type": "error",
     "traceback": [
      "\u001b[0;36m  File \u001b[0;32m\"<ipython-input-1-e114233c71bc>\"\u001b[0;36m, line \u001b[0;32m8\u001b[0m\n\u001b[0;31m    position_dict.setdefault(position = player, [])\u001b[0m\n\u001b[0m                                               ^\u001b[0m\n\u001b[0;31mSyntaxError\u001b[0m\u001b[0;31m:\u001b[0m positional argument follows keyword argument\n"
     ]
    }
   ],
   "source": [
    "def players_by_position(squads_list):\n",
    "   #create empty dictionary\n",
    "   position_dict = {}\n",
    "   # run step 1s function\n",
    "   players = players_as_dictionaries(squads_list)\n",
    "   for player in players:\n",
    "       position = players[1]\n",
    "       position_dict.setdefault(position = player, [])\n",
    "       position_dict[position].append(player)\n",
    "\n",
    "   return position_dict"
   ]
  },
  {
   "cell_type": "code",
   "execution_count": 2,
   "metadata": {},
   "outputs": [
    {
     "ename": "SyntaxError",
     "evalue": "positional argument follows keyword argument (<ipython-input-2-e114233c71bc>, line 8)",
     "output_type": "error",
     "traceback": [
      "\u001b[0;36m  File \u001b[0;32m\"<ipython-input-2-e114233c71bc>\"\u001b[0;36m, line \u001b[0;32m8\u001b[0m\n\u001b[0;31m    position_dict.setdefault(position = player, [])\u001b[0m\n\u001b[0m                                               ^\u001b[0m\n\u001b[0;31mSyntaxError\u001b[0m\u001b[0;31m:\u001b[0m positional argument follows keyword argument\n"
     ]
    }
   ],
   "source": [
    "def players_by_position(squads_list):\n",
    "   #create empty dictionary\n",
    "   position_dict = {}\n",
    "   # run step 1s function\n",
    "   players = players_as_dictionaries(squads_list)\n",
    "   for player in players:\n",
    "       position = players[1]\n",
    "       position_dict.setdefault(position = player, [])\n",
    "       position_dict[position].append(player)\n",
    "\n",
    "   return position_dict"
   ]
  },
  {
   "cell_type": "code",
   "execution_count": null,
   "metadata": {},
   "outputs": [],
   "source": []
  },
  {
   "cell_type": "code",
   "execution_count": null,
   "metadata": {},
   "outputs": [],
   "source": []
  }
 ],
 "metadata": {
  "kernelspec": {
   "display_name": "Python 3",
   "language": "python",
   "name": "python3"
  },
  "language_info": {
   "codemirror_mode": {
    "name": "ipython",
    "version": 3
   },
   "file_extension": ".py",
   "mimetype": "text/x-python",
   "name": "python",
   "nbconvert_exporter": "python",
   "pygments_lexer": "ipython3",
   "version": "3.6.6"
  }
 },
 "nbformat": 4,
 "nbformat_minor": 2
}
