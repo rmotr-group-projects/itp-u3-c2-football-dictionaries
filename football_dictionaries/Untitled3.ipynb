{
 "cells": [
  {
   "cell_type": "code",
   "execution_count": 7,
   "metadata": {},
   "outputs": [],
   "source": [
    "\n",
    "\n",
    "def players_as_dictionaries(squads_list):\n",
    "    users = []\n",
    "    for user in squads_list:\n",
    "        user_dict = {\n",
    "            'number': user[0],\n",
    "            'position': user[1],\n",
    "            'name': user[2],\n",
    "            'date_of_birth': user[3],\n",
    "            'caps': user[4],\n",
    "            'club': user[5],\n",
    "            'country': user[6],\n",
    "            'club_country': user[7],\n",
    "            'year': user[8],\n",
    "        }\n",
    "        users.append(user_dict)\n",
    "    return users\n",
    "\n",
    "\n",
    "\n",
    "def players_by_position(squads_list):\n",
    "   #create empty dictionary\n",
    "   position_dict = {}\n",
    "   # run step 1s function\n",
    "   players = players_as_dictionaries(squads_list)\n",
    "   for player in players:\n",
    "    position = players[1]\n",
    "    position_dict.setdefault(position, [])\n",
    "    position_dict[position].append(player)\n",
    "\n",
    "   return position_dict"
   ]
  },
  {
   "cell_type": "code",
   "execution_count": null,
   "metadata": {},
   "outputs": [],
   "source": []
  },
  {
   "cell_type": "code",
   "execution_count": null,
   "metadata": {},
   "outputs": [],
   "source": []
  },
  {
   "cell_type": "code",
   "execution_count": null,
   "metadata": {},
   "outputs": [],
   "source": []
  },
  {
   "cell_type": "code",
   "execution_count": null,
   "metadata": {},
   "outputs": [],
   "source": []
  }
 ],
 "metadata": {
  "kernelspec": {
   "display_name": "Python 3",
   "language": "python",
   "name": "python3"
  },
  "language_info": {
   "codemirror_mode": {
    "name": "ipython",
    "version": 3
   },
   "file_extension": ".py",
   "mimetype": "text/x-python",
   "name": "python",
   "nbconvert_exporter": "python",
   "pygments_lexer": "ipython3",
   "version": "3.6.6"
  }
 },
 "nbformat": 4,
 "nbformat_minor": 2
}
