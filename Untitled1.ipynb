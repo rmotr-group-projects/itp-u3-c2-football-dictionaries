{
 "cells": [
  {
   "cell_type": "code",
   "execution_count": 1,
   "metadata": {},
   "outputs": [
    {
     "name": "stdout",
     "output_type": "stream",
     "text": [
      "[{'number': '1', 'position': 'GK', 'name': 'Juan Botasso', 'date_of_birth': '(1908-10-23)23 October 1908 (aged 21)', 'caps': '', 'club': 'Quilmes', 'country': 'Argentina', 'club_country': 'Argentina', 'year': '1930'}, {'number': '9', 'position': 'FW', 'name': 'Roberto Cherro', 'date_of_birth': '(1907-02-23)23 February 1907 (aged 23)', 'caps': '', 'club': 'Boca Juniors', 'country': 'Argentina', 'club_country': 'Argentina', 'year': '1930'}, {'number': '-', 'position': 'MF', 'name': 'Pierre Braine', 'date_of_birth': '(1900-10-26)26 October 1900 (aged 29)', 'caps': '42', 'club': 'Royal Beerschot AC', 'country': 'Belgium', 'club_country': 'Belgium', 'year': '1930'}, {'number': '-', 'position': 'MF', 'name': 'Alexis Chantraine', 'date_of_birth': '(1901-03-16)16 March 1901 (aged 29)', 'caps': '0', 'club': 'Royal FC Liegeois', 'country': 'Belgium', 'club_country': 'Belgium', 'year': '1930'}, {'number': '-', 'position': 'GK', 'name': 'Jean De Bie', 'date_of_birth': '(1892-05-09)9 May 1892 (aged 38)', 'caps': '37', 'club': 'Royal Racing Club de Bruxelles', 'country': 'Belgium', 'club_country': 'Belgium', 'year': '1930'}, {'number': '-', 'position': 'MF', 'name': 'Oscar', 'date_of_birth': '(1991-09-09)9 September 1991 (aged 22)', 'caps': '29', 'club': 'Chelsea', 'country': 'Brazil', 'club_country': 'England', 'year': '2010'}, {'number': '-', 'position': 'MF', 'name': 'Paulinho', 'date_of_birth': '(1988-07-25)25 July 1988 (aged 25)', 'caps': '25', 'club': 'Tottenham Hotspur', 'country': 'Brazil', 'club_country': 'England', 'year': '2010'}, {'number': '-', 'position': 'MF', 'name': 'Hernanes', 'date_of_birth': '(1985-05-29)29 May 1985 (aged 29)', 'caps': '23', 'club': 'Internazionale', 'country': 'Brazil', 'club_country': 'Italy', 'year': '2014'}, {'number': '-', 'position': 'MF', 'name': 'Luiz Gustavo', 'date_of_birth': '(1987-07-23)23 July 1987 (aged 26)', 'caps': '17', 'club': 'VfL Wolfsburg', 'country': 'Brazil', 'club_country': 'Germany', 'year': '2014'}, {'number': '-', 'position': 'MF', 'name': 'Fernandinho', 'date_of_birth': '(1985-05-04)4 May 1985 (aged 29)', 'caps': '6', 'club': 'Manchester City', 'country': 'Brazil', 'club_country': 'England', 'year': '2014'}, {'number': '-', 'position': 'MF', 'name': 'Willian', 'date_of_birth': '(1988-08-09)9 August 1988 (aged 25)', 'caps': '5', 'club': 'Chelsea', 'country': 'Brazil', 'club_country': 'England', 'year': '2014'}, {'number': '-', 'position': 'FW', 'name': 'Lee Keun-Ho', 'date_of_birth': '(1985-04-11)11 April 1985 (aged 29)', 'caps': '62', 'club': 'Sangju Sangmu', 'country': 'South Korea', 'club_country': 'South Korea', 'year': '2014'}, {'number': '-', 'position': 'FW', 'name': 'Koo Ja-Cheol', 'date_of_birth': '(1989-02-27)27 February 1989 (aged 25)', 'caps': '35', 'club': 'Mainz 05', 'country': 'South Korea', 'club_country': 'Germany', 'year': '2014'}, {'number': '-', 'position': 'FW', 'name': 'Kim Shin-Wook', 'date_of_birth': '(1988-04-14)14 April 1988 (aged 26)', 'caps': '26', 'club': 'Ulsan Hyundai', 'country': 'South Korea', 'club_country': 'South Korea', 'year': '2014'}]\n"
     ]
    }
   ],
   "source": [
    "from football_dictionaries.squads_data import SQUADS_DATA\n",
    "from pprint import pprint\n",
    "\n",
    "\n",
    "def players_as_dictionaries(squads_list):\n",
    "    players_list = []\n",
    "    for player in squads_list:\n",
    "        players_list.append({\n",
    "            'number':player[0],\n",
    "            'position':player[1],\n",
    "            'name':player[2],\n",
    "            'date_of_birth':player[3],\n",
    "            'caps':player[4],\n",
    "            'club':player[5],\n",
    "            'country':player[6],\n",
    "            'club_country':player[7],\n",
    "            'year':player[8]\n",
    "        })\n",
    "    return players_list\n",
    "\n",
    "print(players_as_dictionaries(SQUADS_DATA))"
   ]
  },
  {
   "cell_type": "code",
   "execution_count": null,
   "metadata": {},
   "outputs": [],
   "source": []
  }
 ],
 "metadata": {
  "kernelspec": {
   "display_name": "Python 3",
   "language": "python",
   "name": "python3"
  },
  "language_info": {
   "codemirror_mode": {
    "name": "ipython",
    "version": 3
   },
   "file_extension": ".py",
   "mimetype": "text/x-python",
   "name": "python",
   "nbconvert_exporter": "python",
   "pygments_lexer": "ipython3",
   "version": "3.6.6"
  }
 },
 "nbformat": 4,
 "nbformat_minor": 2
}
