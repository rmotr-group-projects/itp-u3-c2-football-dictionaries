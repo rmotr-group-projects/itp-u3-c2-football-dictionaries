{
 "cells": [
  {
   "cell_type": "code",
   "execution_count": 1,
   "metadata": {},
   "outputs": [],
   "source": [
    "def build_user_as_dict(name, email, age):\n",
    "    return{\n",
    "        'name': name,\n",
    "        'email': email,\n",
    "        'age': age\n",
    "    }"
   ]
  },
  {
   "cell_type": "code",
   "execution_count": 2,
   "metadata": {},
   "outputs": [],
   "source": [
    "assert build_user_as_dict('John', 'john@gmail.com', 31) == {\n",
    "    'name': 'John',\n",
    "    'email': 'john@gmail.com',\n",
    "    'age': 31\n",
    "}"
   ]
  },
  {
   "cell_type": "code",
   "execution_count": 3,
   "metadata": {},
   "outputs": [],
   "source": [
    "assert build_user_as_dict('Mary', 'mary@hotmail.com', 28) == {\n",
    "    'name': 'Mary',\n",
    "    'email': 'mary@hotmail.com',\n",
    "    'age': 28\n",
    "}"
   ]
  },
  {
   "cell_type": "code",
   "execution_count": 5,
   "metadata": {},
   "outputs": [],
   "source": [
    "def transform_user_list_to_dict(a_user):\n",
    "    return{\n",
    "        'name': a_user[0],\n",
    "        'email': a_user[1],\n",
    "        'age': a_user[2]\n",
    "    }"
   ]
  },
  {
   "cell_type": "code",
   "execution_count": 7,
   "metadata": {},
   "outputs": [],
   "source": [
    "l1 = ['John', 'john@gmail.com', 31]\n",
    "\n",
    "assert transform_user_list_to_dict(l1) == {\n",
    "    'name': 'John',\n",
    "    'email': 'john@gmail.com',\n",
    "    'age': 31\n",
    "}"
   ]
  },
  {
   "cell_type": "code",
   "execution_count": 8,
   "metadata": {},
   "outputs": [],
   "source": [
    "l2 = ['Mary', 'mary@hotmail.com', 28]\n",
    "\n",
    "assert transform_user_list_to_dict(l2) == {\n",
    "    'name': 'Mary',\n",
    "    'email': 'mary@hotmail.com',\n",
    "    'age': 28\n",
    "}"
   ]
  },
  {
   "cell_type": "code",
   "execution_count": 3,
   "metadata": {},
   "outputs": [
    {
     "name": "stdout",
     "output_type": "stream",
     "text": [
      "['John', 'john@gmail.com', 31]\n",
      "['Mary', 'mary@hotmail.com', 28]\n"
     ]
    }
   ],
   "source": [
    "users = [\n",
    "    ['John', 'john@gmail.com', 31],\n",
    "    ['Mary', 'mary@hotmail.com', 28]\n",
    "]\n",
    "users\n",
    "\n",
    "for user in users:\n",
    "    print(user)"
   ]
  },
  {
   "cell_type": "code",
   "execution_count": 18,
   "metadata": {},
   "outputs": [],
   "source": [
    "def transform_multiple_users_to_dicts(multiple_users):\n",
    "    result = []\n",
    "    for user in multiple_users: # loop through users\n",
    "        user_dict = {  # dictionary is using premade keys, and looping through user[0:2]\n",
    "        'name' : user[0],\n",
    "        'email' : user[1],\n",
    "        'age' : user[2],}\n",
    "        result.append(user_dict)\n",
    "    \n",
    "    return result\n",
    "        \n",
    "    \n",
    "        "
   ]
  },
  {
   "cell_type": "code",
   "execution_count": 19,
   "metadata": {},
   "outputs": [],
   "source": [
    "users = [\n",
    "    ['John', 'john@gmail.com', 31],\n",
    "    ['Mary', 'mary@hotmail.com', 28],\n",
    "    ['Rose', 'rose@yahoo.com', 30]\n",
    "]\n",
    "\n",
    "users_as_dict = transform_multiple_users_to_dicts(users)\n",
    "\n",
    "assert users_as_dict == [{\n",
    "    'name': 'John',\n",
    "    'email': 'john@gmail.com',\n",
    "    'age': 31\n",
    "}, {\n",
    "    'name': 'Mary',\n",
    "    'email': 'mary@hotmail.com',\n",
    "    'age': 28\n",
    "}, {\n",
    "    'name': 'Rose',\n",
    "    'email': 'rose@yahoo.com',\n",
    "    'age': 30\n",
    "}]"
   ]
  },
  {
   "cell_type": "code",
   "execution_count": 23,
   "metadata": {},
   "outputs": [],
   "source": [
    "def group_users_by_email_domain(multiple_users):\n",
    "    users_dict = {} # Create a new Dictionary\n",
    "    for user in users: # loop through each individual user\n",
    "        domain = user['email'].split('@')[1] #split at '@', using [1] because [0] would give name\n",
    "        users_dict.setdefault(domain, []) #creating the key gmail.com, hotmail.com and setting the\n",
    "        #default value as an empty list\n",
    "        users_dict[domain].append(user) # add the user to the domain dictionary and copying the user info\n",
    "    return users_dict\n",
    "                "
   ]
  },
  {
   "cell_type": "code",
   "execution_count": 24,
   "metadata": {},
   "outputs": [],
   "source": [
    "users = [{\n",
    "    'name': 'John',\n",
    "    'email': 'john@gmail.com',     # gmail\n",
    "    'age': 31\n",
    "}, {\n",
    "    'name': 'Mary',\n",
    "    'email': 'mary@hotmail.com',   # hotmail\n",
    "    'age': 28\n",
    "}, {\n",
    "    'name': 'Rose',\n",
    "    'email': 'rose@yahoo.com',     # yahoo\n",
    "    'age': 30\n",
    "}, {\n",
    "    'name': 'Jane',\n",
    "    'email': 'jane@gmail.com',     # gmail\n",
    "    'age': 25\n",
    "}, {\n",
    "    'name': 'Dustin',\n",
    "    'email': 'dustin@hotmail.com',  # hotmail\n",
    "    'age': 35\n",
    "}]\n",
    "\n",
    "users_grouped = group_users_by_email_domain(users)\n",
    "\n",
    "assert users_grouped == {\n",
    "    'gmail.com': [{\n",
    "        'name': 'John',\n",
    "        'email': 'john@gmail.com',     # gmail\n",
    "        'age': 31\n",
    "    }, {\n",
    "        'name': 'Jane',\n",
    "        'email': 'jane@gmail.com',     # gmail\n",
    "        'age': 25\n",
    "    }],\n",
    "    'hotmail.com': [{\n",
    "        'name': 'Mary',\n",
    "        'email': 'mary@hotmail.com',   # hotmail\n",
    "        'age': 28\n",
    "    }, {\n",
    "        'name': 'Dustin',\n",
    "        'email': 'dustin@hotmail.com',  # hotmail\n",
    "        'age': 35\n",
    "    }],\n",
    "    'yahoo.com': [{\n",
    "        'name': 'Rose',\n",
    "        'email': 'rose@yahoo.com',     # yahoo\n",
    "        'age': 30\n",
    "    }]\n",
    "}"
   ]
  },
  {
   "cell_type": "code",
   "execution_count": null,
   "metadata": {},
   "outputs": [],
   "source": []
  }
 ],
 "metadata": {
  "kernelspec": {
   "display_name": "Python 3",
   "language": "python",
   "name": "python3"
  },
  "language_info": {
   "codemirror_mode": {
    "name": "ipython",
    "version": 3
   },
   "file_extension": ".py",
   "mimetype": "text/x-python",
   "name": "python",
   "nbconvert_exporter": "python",
   "pygments_lexer": "ipython3",
   "version": "3.6.6"
  }
 },
 "nbformat": 4,
 "nbformat_minor": 2
}
